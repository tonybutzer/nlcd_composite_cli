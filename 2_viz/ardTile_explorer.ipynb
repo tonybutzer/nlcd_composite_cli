{
 "cells": [
  {
   "cell_type": "markdown",
   "id": "3f7b6b1b-bbb1-44cb-aec3-a297ab0d82f5",
   "metadata": {},
   "source": [
    "hello"
   ]
  },
  {
   "cell_type": "code",
   "execution_count": 1,
   "id": "a9b7500e-afc3-4658-9e97-ecde20a57ec5",
   "metadata": {},
   "outputs": [],
   "source": [
    "CSZ=500"
   ]
  },
  {
   "cell_type": "code",
   "execution_count": 2,
   "id": "1b51bde3-40a8-4073-a372-dc190be0b0bc",
   "metadata": {},
   "outputs": [],
   "source": [
    "import geopandas \n"
   ]
  },
  {
   "cell_type": "code",
   "execution_count": 3,
   "id": "f0685e39-a1cb-415b-a1be-fde9c72aaff4",
   "metadata": {},
   "outputs": [],
   "source": [
    "gdfin = geopandas.GeoDataFrame.from_file('AOI/conus_ard_grid.shp')"
   ]
  },
  {
   "cell_type": "code",
   "execution_count": 4,
   "id": "dba81084-360d-4530-bb03-2116a7bbf680",
   "metadata": {},
   "outputs": [
    {
     "data": {
      "text/html": [
       "<div>\n",
       "<style scoped>\n",
       "    .dataframe tbody tr th:only-of-type {\n",
       "        vertical-align: middle;\n",
       "    }\n",
       "\n",
       "    .dataframe tbody tr th {\n",
       "        vertical-align: top;\n",
       "    }\n",
       "\n",
       "    .dataframe thead th {\n",
       "        text-align: right;\n",
       "    }\n",
       "</style>\n",
       "<table border=\"1\" class=\"dataframe\">\n",
       "  <thead>\n",
       "    <tr style=\"text-align: right;\">\n",
       "      <th></th>\n",
       "      <th>FID_1</th>\n",
       "      <th>h</th>\n",
       "      <th>v</th>\n",
       "      <th>geometry</th>\n",
       "    </tr>\n",
       "  </thead>\n",
       "  <tbody>\n",
       "    <tr>\n",
       "      <th>0</th>\n",
       "      <td>0</td>\n",
       "      <td>2</td>\n",
       "      <td>0</td>\n",
       "      <td>POLYGON ((-2265585.000 3314805.000, -2115585.0...</td>\n",
       "    </tr>\n",
       "    <tr>\n",
       "      <th>1</th>\n",
       "      <td>1</td>\n",
       "      <td>2</td>\n",
       "      <td>1</td>\n",
       "      <td>POLYGON ((-2265585.000 3164805.000, -2115585.0...</td>\n",
       "    </tr>\n",
       "    <tr>\n",
       "      <th>2</th>\n",
       "      <td>2</td>\n",
       "      <td>2</td>\n",
       "      <td>2</td>\n",
       "      <td>POLYGON ((-2265585.000 3014805.000, -2115585.0...</td>\n",
       "    </tr>\n",
       "    <tr>\n",
       "      <th>3</th>\n",
       "      <td>3</td>\n",
       "      <td>2</td>\n",
       "      <td>3</td>\n",
       "      <td>POLYGON ((-2265585.000 2864805.000, -2115585.0...</td>\n",
       "    </tr>\n",
       "    <tr>\n",
       "      <th>4</th>\n",
       "      <td>4</td>\n",
       "      <td>2</td>\n",
       "      <td>4</td>\n",
       "      <td>POLYGON ((-2265585.000 2714805.000, -2115585.0...</td>\n",
       "    </tr>\n",
       "  </tbody>\n",
       "</table>\n",
       "</div>"
      ],
      "text/plain": [
       "   FID_1  h  v                                           geometry\n",
       "0      0  2  0  POLYGON ((-2265585.000 3314805.000, -2115585.0...\n",
       "1      1  2  1  POLYGON ((-2265585.000 3164805.000, -2115585.0...\n",
       "2      2  2  2  POLYGON ((-2265585.000 3014805.000, -2115585.0...\n",
       "3      3  2  3  POLYGON ((-2265585.000 2864805.000, -2115585.0...\n",
       "4      4  2  4  POLYGON ((-2265585.000 2714805.000, -2115585.0..."
      ]
     },
     "execution_count": 4,
     "metadata": {},
     "output_type": "execute_result"
    }
   ],
   "source": [
    "gdfin.head()"
   ]
  },
  {
   "cell_type": "code",
   "execution_count": 5,
   "id": "bad1ce0f-2f55-4ff5-83b7-3cae519fb42a",
   "metadata": {},
   "outputs": [
    {
     "data": {
      "text/plain": [
       "<Projected CRS: PROJCS[\"Albers_Conic_Equal_Area\",GEOGCS[\"WGS 84\",D ...>\n",
       "Name: Albers_Conic_Equal_Area\n",
       "Axis Info [cartesian]:\n",
       "- [east]: Easting (metre)\n",
       "- [north]: Northing (metre)\n",
       "Area of Use:\n",
       "- undefined\n",
       "Coordinate Operation:\n",
       "- name: unnamed\n",
       "- method: Albers Equal Area\n",
       "Datum: World Geodetic System 1984\n",
       "- Ellipsoid: WGS 84\n",
       "- Prime Meridian: Greenwich"
      ]
     },
     "execution_count": 5,
     "metadata": {},
     "output_type": "execute_result"
    }
   ],
   "source": [
    "gdfin.crs"
   ]
  },
  {
   "cell_type": "code",
   "execution_count": 6,
   "id": "db502887-06c8-4b56-8b9c-23f512250a85",
   "metadata": {},
   "outputs": [],
   "source": [
    "\n",
    "horiz=4\n",
    "vert=2\n",
    "\n",
    "# horiz=24\n",
    "# vert=13"
   ]
  },
  {
   "cell_type": "code",
   "execution_count": 7,
   "id": "2695c32e-9edb-434d-ad80-892223e479c5",
   "metadata": {},
   "outputs": [],
   "source": [
    "hvgdf = gdfin.loc[(gdfin['h'] == horiz) & (gdfin['v'] == vert)]"
   ]
  },
  {
   "cell_type": "code",
   "execution_count": 8,
   "id": "e5333d59-d24c-4448-ad03-e743dde87b2b",
   "metadata": {},
   "outputs": [],
   "source": [
    "plot_hv = hvgdf.to_crs('EPSG:4326')"
   ]
  },
  {
   "cell_type": "code",
   "execution_count": 9,
   "id": "4441ba96-e98a-4321-83b9-a11ddb4d3b68",
   "metadata": {},
   "outputs": [],
   "source": [
    "#! wget https://raw.githubusercontent.com/tonybutzer/the_handbook/b2c9270dd70b9e713c7fd43b59fca2f9eeb1dec6/teigen-lightning-talks/4_Jan_2022/Panel_Examples/fm_map.py"
   ]
  },
  {
   "cell_type": "code",
   "execution_count": 10,
   "id": "4a7cacc8-39b9-4bb5-a96d-dc87d5ad53d9",
   "metadata": {},
   "outputs": [],
   "source": [
    "my_geo_json = plot_hv.to_json()"
   ]
  },
  {
   "cell_type": "code",
   "execution_count": 11,
   "id": "a4d6fad5-e8c2-4097-860e-5dcc6ac322b5",
   "metadata": {},
   "outputs": [
    {
     "data": {
      "text/plain": [
       "'{\"type\": \"FeatureCollection\", \"features\": [{\"id\": \"44\", \"type\": \"Feature\", \"properties\": {\"FID_1\": 44, \"h\": 4, \"v\": 2}, \"geometry\": {\"type\": \"Polygon\", \"coordinates\": [[[-122.3220940308189, 47.66175845926773], [-120.40385515386515, 48.020301278531434], [-119.90746960035023, 46.70670695218046], [-121.79048180257418, 46.35679327814428], [-122.3220940308189, 47.66175845926773]]]}}]}'"
      ]
     },
     "execution_count": 11,
     "metadata": {},
     "output_type": "execute_result"
    }
   ],
   "source": [
    "my_geo_json"
   ]
  },
  {
   "cell_type": "code",
   "execution_count": 12,
   "id": "9bfe0874-625a-4f1d-bdbf-1c872c2f9cb1",
   "metadata": {},
   "outputs": [],
   "source": [
    "import folium\n",
    "import geopandas as gpd\n",
    "tiles=\" http://mt1.google.com/vt/lyrs=y&z={z}&x={x}&y={y}\"\n",
    "attr=\"Google\"\n"
   ]
  },
  {
   "cell_type": "code",
   "execution_count": 13,
   "id": "1be525a4-1b86-4357-9101-826c88834c5e",
   "metadata": {},
   "outputs": [],
   "source": [
    "def simple_map(my_geo):\n",
    "    center=my_geo.geometry.bounds['miny'].values[0], my_geo.geometry.bounds['minx'].values[0]\n",
    "    sw = center\n",
    "    ne = my_geo.geometry.bounds['maxy'].values[0], my_geo.geometry.bounds['maxx'].values[0]\n",
    "    map3 = folium.Map(location=center, zoom_start=12,center=center)\n",
    "    map3.fit_bounds([sw,ne])\n",
    "    my_geo_json = my_geo.to_json()\n",
    "    style_function= lambda x:{'color':'red'}\n",
    "    folium.GeoJson(my_geo_json,style_function).add_to(map3)\n",
    "    #map3.add_child(folium.features.LatLngPopup())\n",
    "\n",
    "    return(map3)"
   ]
  },
  {
   "cell_type": "code",
   "execution_count": 14,
   "id": "5802a6f3-d8e9-4c8f-85f8-9865df869282",
   "metadata": {},
   "outputs": [],
   "source": [
    "my_geo = plot_hv"
   ]
  },
  {
   "cell_type": "code",
   "execution_count": 15,
   "id": "2e382362-8aab-483a-96c4-9235c2177a79",
   "metadata": {},
   "outputs": [],
   "source": [
    "center=my_geo.geometry.bounds['miny'].values[0], my_geo.geometry.bounds['minx'].values[0]\n",
    "sw = center\n",
    "ne = my_geo.geometry.bounds['maxy'].values[0], my_geo.geometry.bounds['maxx'].values[0]"
   ]
  },
  {
   "cell_type": "code",
   "execution_count": 16,
   "id": "34a7f150-5f15-4f35-a317-f0f920e08c67",
   "metadata": {},
   "outputs": [
    {
     "data": {
      "text/plain": [
       "((46.35679327814428, -122.3220940308189),\n",
       " (46.35679327814428, -122.3220940308189),\n",
       " (48.020301278531434, -119.90746960035023))"
      ]
     },
     "execution_count": 16,
     "metadata": {},
     "output_type": "execute_result"
    }
   ],
   "source": [
    "center, sw, ne"
   ]
  },
  {
   "cell_type": "code",
   "execution_count": 17,
   "id": "20e01b10-c5dd-4d94-8aa4-e92c926c8378",
   "metadata": {},
   "outputs": [
    {
     "data": {
      "text/html": [
       "<div>\n",
       "<style scoped>\n",
       "    .dataframe tbody tr th:only-of-type {\n",
       "        vertical-align: middle;\n",
       "    }\n",
       "\n",
       "    .dataframe tbody tr th {\n",
       "        vertical-align: top;\n",
       "    }\n",
       "\n",
       "    .dataframe thead th {\n",
       "        text-align: right;\n",
       "    }\n",
       "</style>\n",
       "<table border=\"1\" class=\"dataframe\">\n",
       "  <thead>\n",
       "    <tr style=\"text-align: right;\">\n",
       "      <th></th>\n",
       "      <th>minx</th>\n",
       "      <th>miny</th>\n",
       "      <th>maxx</th>\n",
       "      <th>maxy</th>\n",
       "    </tr>\n",
       "  </thead>\n",
       "  <tbody>\n",
       "    <tr>\n",
       "      <th>44</th>\n",
       "      <td>-122.322094</td>\n",
       "      <td>46.356793</td>\n",
       "      <td>-119.90747</td>\n",
       "      <td>48.020301</td>\n",
       "    </tr>\n",
       "  </tbody>\n",
       "</table>\n",
       "</div>"
      ],
      "text/plain": [
       "          minx       miny       maxx       maxy\n",
       "44 -122.322094  46.356793 -119.90747  48.020301"
      ]
     },
     "execution_count": 17,
     "metadata": {},
     "output_type": "execute_result"
    }
   ],
   "source": [
    "plot_hv.geometry.bounds"
   ]
  },
  {
   "cell_type": "code",
   "execution_count": 18,
   "id": "010471a3-dc70-4718-98e9-6a44e5b19d93",
   "metadata": {},
   "outputs": [],
   "source": [
    "m = simple_map(plot_hv)"
   ]
  },
  {
   "cell_type": "code",
   "execution_count": 19,
   "id": "aefccecb-3307-49fe-8540-b440cecba41f",
   "metadata": {},
   "outputs": [
    {
     "data": {
      "text/html": [
       "<div style=\"width:100%;\"><div style=\"position:relative;width:100%;height:0;padding-bottom:60%;\"><span style=\"color:#565656\">Make this Notebook Trusted to load map: File -> Trust Notebook</span><iframe srcdoc=\"&lt;!DOCTYPE html&gt;\n",
       "&lt;html&gt;\n",
       "&lt;head&gt;\n",
       "    \n",
       "    &lt;meta http-equiv=&quot;content-type&quot; content=&quot;text/html; charset=UTF-8&quot; /&gt;\n",
       "    \n",
       "        &lt;script&gt;\n",
       "            L_NO_TOUCH = false;\n",
       "            L_DISABLE_3D = false;\n",
       "        &lt;/script&gt;\n",
       "    \n",
       "    &lt;style&gt;html, body {width: 100%;height: 100%;margin: 0;padding: 0;}&lt;/style&gt;\n",
       "    &lt;style&gt;#map {position:absolute;top:0;bottom:0;right:0;left:0;}&lt;/style&gt;\n",
       "    &lt;script src=&quot;https://cdn.jsdelivr.net/npm/leaflet@1.9.3/dist/leaflet.js&quot;&gt;&lt;/script&gt;\n",
       "    &lt;script src=&quot;https://code.jquery.com/jquery-3.7.1.min.js&quot;&gt;&lt;/script&gt;\n",
       "    &lt;script src=&quot;https://cdn.jsdelivr.net/npm/bootstrap@5.2.2/dist/js/bootstrap.bundle.min.js&quot;&gt;&lt;/script&gt;\n",
       "    &lt;script src=&quot;https://cdnjs.cloudflare.com/ajax/libs/Leaflet.awesome-markers/2.0.2/leaflet.awesome-markers.js&quot;&gt;&lt;/script&gt;\n",
       "    &lt;link rel=&quot;stylesheet&quot; href=&quot;https://cdn.jsdelivr.net/npm/leaflet@1.9.3/dist/leaflet.css&quot;/&gt;\n",
       "    &lt;link rel=&quot;stylesheet&quot; href=&quot;https://cdn.jsdelivr.net/npm/bootstrap@5.2.2/dist/css/bootstrap.min.css&quot;/&gt;\n",
       "    &lt;link rel=&quot;stylesheet&quot; href=&quot;https://netdna.bootstrapcdn.com/bootstrap/3.0.0/css/bootstrap.min.css&quot;/&gt;\n",
       "    &lt;link rel=&quot;stylesheet&quot; href=&quot;https://cdn.jsdelivr.net/npm/@fortawesome/fontawesome-free@6.2.0/css/all.min.css&quot;/&gt;\n",
       "    &lt;link rel=&quot;stylesheet&quot; href=&quot;https://cdnjs.cloudflare.com/ajax/libs/Leaflet.awesome-markers/2.0.2/leaflet.awesome-markers.css&quot;/&gt;\n",
       "    &lt;link rel=&quot;stylesheet&quot; href=&quot;https://cdn.jsdelivr.net/gh/python-visualization/folium/folium/templates/leaflet.awesome.rotate.min.css&quot;/&gt;\n",
       "    \n",
       "            &lt;meta name=&quot;viewport&quot; content=&quot;width=device-width,\n",
       "                initial-scale=1.0, maximum-scale=1.0, user-scalable=no&quot; /&gt;\n",
       "            &lt;style&gt;\n",
       "                #map_c36c44a518b948ab6da98979ecd3371b {\n",
       "                    position: relative;\n",
       "                    width: 100.0%;\n",
       "                    height: 100.0%;\n",
       "                    left: 0.0%;\n",
       "                    top: 0.0%;\n",
       "                }\n",
       "                .leaflet-container { font-size: 1rem; }\n",
       "            &lt;/style&gt;\n",
       "        \n",
       "&lt;/head&gt;\n",
       "&lt;body&gt;\n",
       "    \n",
       "    \n",
       "            &lt;div class=&quot;folium-map&quot; id=&quot;map_c36c44a518b948ab6da98979ecd3371b&quot; &gt;&lt;/div&gt;\n",
       "        \n",
       "&lt;/body&gt;\n",
       "&lt;script&gt;\n",
       "    \n",
       "    \n",
       "            var map_c36c44a518b948ab6da98979ecd3371b = L.map(\n",
       "                &quot;map_c36c44a518b948ab6da98979ecd3371b&quot;,\n",
       "                {\n",
       "                    center: [46.35679327814428, -122.3220940308189],\n",
       "                    crs: L.CRS.EPSG3857,\n",
       "                    zoom: 12,\n",
       "                    zoomControl: true,\n",
       "                    preferCanvas: false,\n",
       "                    center: [46.35679327814428, -122.3220940308189],\n",
       "                }\n",
       "            );\n",
       "\n",
       "            \n",
       "\n",
       "        \n",
       "    \n",
       "            var tile_layer_a3f7b2f0ad55a1c41affa694255c59a2 = L.tileLayer(\n",
       "                &quot;https://{s}.tile.openstreetmap.org/{z}/{x}/{y}.png&quot;,\n",
       "                {&quot;attribution&quot;: &quot;Data by \\u0026copy; \\u003ca target=\\&quot;_blank\\&quot; href=\\&quot;http://openstreetmap.org\\&quot;\\u003eOpenStreetMap\\u003c/a\\u003e, under \\u003ca target=\\&quot;_blank\\&quot; href=\\&quot;http://www.openstreetmap.org/copyright\\&quot;\\u003eODbL\\u003c/a\\u003e.&quot;, &quot;detectRetina&quot;: false, &quot;maxNativeZoom&quot;: 18, &quot;maxZoom&quot;: 18, &quot;minZoom&quot;: 0, &quot;noWrap&quot;: false, &quot;opacity&quot;: 1, &quot;subdomains&quot;: &quot;abc&quot;, &quot;tms&quot;: false}\n",
       "            );\n",
       "        \n",
       "    \n",
       "                tile_layer_a3f7b2f0ad55a1c41affa694255c59a2.addTo(map_c36c44a518b948ab6da98979ecd3371b);\n",
       "    \n",
       "            map_c36c44a518b948ab6da98979ecd3371b.fitBounds(\n",
       "                [[46.35679327814428, -122.3220940308189], [48.020301278531434, -119.90746960035023]],\n",
       "                {}\n",
       "            );\n",
       "        \n",
       "    \n",
       "        function geo_json_65abc1ab3532c90336736e20cdfe0adf_styler(feature) {\n",
       "            switch(feature.id) {\n",
       "                default:\n",
       "                    return {&quot;color&quot;: &quot;red&quot;};\n",
       "            }\n",
       "        }\n",
       "\n",
       "        function geo_json_65abc1ab3532c90336736e20cdfe0adf_onEachFeature(feature, layer) {\n",
       "            layer.on({\n",
       "            });\n",
       "        };\n",
       "        var geo_json_65abc1ab3532c90336736e20cdfe0adf = L.geoJson(null, {\n",
       "                onEachFeature: geo_json_65abc1ab3532c90336736e20cdfe0adf_onEachFeature,\n",
       "            \n",
       "                style: geo_json_65abc1ab3532c90336736e20cdfe0adf_styler,\n",
       "        });\n",
       "\n",
       "        function geo_json_65abc1ab3532c90336736e20cdfe0adf_add (data) {\n",
       "            geo_json_65abc1ab3532c90336736e20cdfe0adf\n",
       "                .addData(data);\n",
       "        }\n",
       "            geo_json_65abc1ab3532c90336736e20cdfe0adf_add({&quot;features&quot;: [{&quot;geometry&quot;: {&quot;coordinates&quot;: [[[-122.3220940308189, 47.66175845926773], [-120.40385515386515, 48.020301278531434], [-119.90746960035023, 46.70670695218046], [-121.79048180257418, 46.35679327814428], [-122.3220940308189, 47.66175845926773]]], &quot;type&quot;: &quot;Polygon&quot;}, &quot;id&quot;: &quot;44&quot;, &quot;properties&quot;: {&quot;FID_1&quot;: 44, &quot;h&quot;: 4, &quot;v&quot;: 2}, &quot;type&quot;: &quot;Feature&quot;}], &quot;type&quot;: &quot;FeatureCollection&quot;});\n",
       "\n",
       "        \n",
       "    \n",
       "                geo_json_65abc1ab3532c90336736e20cdfe0adf.addTo(map_c36c44a518b948ab6da98979ecd3371b);\n",
       "&lt;/script&gt;\n",
       "&lt;/html&gt;\" style=\"position:absolute;width:100%;height:100%;left:0;top:0;border:none !important;\" allowfullscreen webkitallowfullscreen mozallowfullscreen></iframe></div></div>"
      ],
      "text/plain": [
       "<folium.folium.Map at 0x7f4634c77050>"
      ]
     },
     "execution_count": 19,
     "metadata": {},
     "output_type": "execute_result"
    }
   ],
   "source": [
    "m"
   ]
  },
  {
   "cell_type": "code",
   "execution_count": 20,
   "id": "e47ad64f-e195-4d59-ba2b-289e8a8437e4",
   "metadata": {},
   "outputs": [],
   "source": [
    "# style_function= lambda x:{'color':'red'}\n",
    "# folium.GeoJson(my_geo_json,style_function).add_to(m)"
   ]
  },
  {
   "cell_type": "code",
   "execution_count": 21,
   "id": "4b289df2-6b52-4fec-a5d7-d5ef843f09ae",
   "metadata": {},
   "outputs": [
    {
     "data": {
      "text/html": [
       "<div>\n",
       "<style scoped>\n",
       "    .dataframe tbody tr th:only-of-type {\n",
       "        vertical-align: middle;\n",
       "    }\n",
       "\n",
       "    .dataframe tbody tr th {\n",
       "        vertical-align: top;\n",
       "    }\n",
       "\n",
       "    .dataframe thead th {\n",
       "        text-align: right;\n",
       "    }\n",
       "</style>\n",
       "<table border=\"1\" class=\"dataframe\">\n",
       "  <thead>\n",
       "    <tr style=\"text-align: right;\">\n",
       "      <th></th>\n",
       "      <th>FID_1</th>\n",
       "      <th>h</th>\n",
       "      <th>v</th>\n",
       "      <th>geometry</th>\n",
       "    </tr>\n",
       "  </thead>\n",
       "  <tbody>\n",
       "    <tr>\n",
       "      <th>44</th>\n",
       "      <td>44</td>\n",
       "      <td>4</td>\n",
       "      <td>2</td>\n",
       "      <td>POLYGON ((-1965585.000 3014805.000, -1815585.0...</td>\n",
       "    </tr>\n",
       "  </tbody>\n",
       "</table>\n",
       "</div>"
      ],
      "text/plain": [
       "    FID_1  h  v                                           geometry\n",
       "44     44  4  2  POLYGON ((-1965585.000 3014805.000, -1815585.0..."
      ]
     },
     "execution_count": 21,
     "metadata": {},
     "output_type": "execute_result"
    }
   ],
   "source": [
    "hvgdf"
   ]
  }
 ],
 "metadata": {
  "kernelspec": {
   "display_name": "Python 3 (ipykernel)",
   "language": "python",
   "name": "python3"
  },
  "language_info": {
   "codemirror_mode": {
    "name": "ipython",
    "version": 3
   },
   "file_extension": ".py",
   "mimetype": "text/x-python",
   "name": "python",
   "nbconvert_exporter": "python",
   "pygments_lexer": "ipython3",
   "version": "3.11.6"
  }
 },
 "nbformat": 4,
 "nbformat_minor": 5
}
